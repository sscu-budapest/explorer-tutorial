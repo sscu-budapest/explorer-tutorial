{
 "cells": [
  {
   "cell_type": "markdown",
   "id": "greater-sweden",
   "metadata": {},
   "source": [
    "# Check Head"
   ]
  },
  {
   "cell_type": "code",
   "execution_count": 1,
   "id": "weighted-boost",
   "metadata": {},
   "outputs": [],
   "source": [
    "import pandas as pd"
   ]
  },
  
  {
   "cell_type": "code",
   "execution_count": null,
   "id": "liberal-covid_victim",
   "metadata": {},
   "outputs": [],
   "source": [
    "df_covid_victim = pd.read_csv(\"covid_victim.csv\")"
   ]
  },
  {
   "cell_type": "code",
   "execution_count": null,
   "id": "neither-covid_victim",
   "metadata": {},
   "outputs": [],
   "source": [
    "df_covid_victim.head(3).T"
   ]
  },

  {
    "cell_type": "code",
    "execution_count": null,
    "id": "greater-thingy",
    "metadata": {},
    "outputs": [],
    "source": []
   }
 ],
 "metadata": {
  "kernelspec": {
   "display_name": "Python 3",
   "language": "python",
   "name": "python3"
  },
  "language_info": {
   "codemirror_mode": {
    "name": "ipython",
    "version": 3
   },
   "file_extension": ".py",
   "mimetype": "text/x-python",
   "name": "python",
   "nbconvert_exporter": "python",
   "pygments_lexer": "ipython3",
   "version": "3.8.10"
  }
 },
 "nbformat": 4,
 "nbformat_minor": 5
}
