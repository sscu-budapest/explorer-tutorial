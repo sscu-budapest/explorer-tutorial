{
 "cells": [
  {
   "cell_type": "markdown",
   "id": "greater-sweden",
   "metadata": {},
   "source": [
    "# Check Head"
   ]
  },
  {
   "cell_type": "code",
   "execution_count": 1,
   "id": "weighted-boost",
   "metadata": {},
   "outputs": [],
   "source": [
    "import pandas as pd"
   ]
  },
  {
   "cell_type": "code",
   "execution_count": null,
   "id": "liberal-affiliation",
   "metadata": {},
   "outputs": [],
   "source": [
    "df_affiliation = pd.read_csv(\"affiliation.csv\")"
   ]
  },
  {
   "cell_type": "code",
   "execution_count": null,
   "id": "neither-affiliation",
   "metadata": {},
   "outputs": [],
   "source": [
    "df_affiliation.head(3).T"
   ]
  },
  {
   "cell_type": "code",
   "execution_count": null,
   "id": "liberal-nominating_organization",
   "metadata": {},
   "outputs": [],
   "source": [
    "df_nominating_organization = pd.read_csv(\"nominating_organization.csv\")"
   ]
  },
  {
   "cell_type": "code",
   "execution_count": null,
   "id": "neither-nominating_organization",
   "metadata": {},
   "outputs": [],
   "source": [
    "df_nominating_organization.head(3).T"
   ]
  },
  {
   "cell_type": "code",
   "execution_count": null,
   "id": "liberal-election",
   "metadata": {},
   "outputs": [],
   "source": [
    "df_election = pd.read_csv(\"election.csv\")"
   ]
  },
  {
   "cell_type": "code",
   "execution_count": null,
   "id": "neither-election",
   "metadata": {},
   "outputs": [],
   "source": [
    "df_election.head(3).T"
   ]
  },
  {
   "cell_type": "code",
   "execution_count": null,
   "id": "liberal-district_hierarchy",
   "metadata": {},
   "outputs": [],
   "source": [
    "df_district_hierarchy = pd.read_csv(\"district_hierarchy.csv\")"
   ]
  },
  {
   "cell_type": "code",
   "execution_count": null,
   "id": "neither-district_hierarchy",
   "metadata": {},
   "outputs": [],
   "source": [
    "df_district_hierarchy.head(3).T"
   ]
  },
  {
   "cell_type": "code",
   "execution_count": null,
   "id": "liberal-geographical_unit",
   "metadata": {},
   "outputs": [],
   "source": [
    "df_geographical_unit = pd.read_csv(\"geographical_unit.csv\")"
   ]
  },
  {
   "cell_type": "code",
   "execution_count": null,
   "id": "neither-geographical_unit",
   "metadata": {},
   "outputs": [],
   "source": [
    "df_geographical_unit.head(3).T"
   ]
  },
  {
   "cell_type": "code",
   "execution_count": null,
   "id": "liberal-election_precinct",
   "metadata": {},
   "outputs": [],
   "source": [
    "df_election_precinct = pd.read_csv(\"election_precinct.csv\")"
   ]
  },
  {
   "cell_type": "code",
   "execution_count": null,
   "id": "neither-election_precinct",
   "metadata": {},
   "outputs": [],
   "source": [
    "df_election_precinct.head(3).T"
   ]
  },
  {
   "cell_type": "code",
   "execution_count": null,
   "id": "liberal-vote_record",
   "metadata": {},
   "outputs": [],
   "source": [
    "df_vote_record = pd.read_csv(\"vote_record.csv\")"
   ]
  },
  {
   "cell_type": "code",
   "execution_count": null,
   "id": "neither-vote_record",
   "metadata": {},
   "outputs": [],
   "source": [
    "df_vote_record.head(3).T"
   ]
  }
 ],
 "metadata": {
  "kernelspec": {
   "display_name": "Python 3",
   "language": "python",
   "name": "python3"
  },
  "language_info": {
   "codemirror_mode": {
    "name": "ipython",
    "version": 3
   },
   "file_extension": ".py",
   "mimetype": "text/x-python",
   "name": "python",
   "nbconvert_exporter": "python",
   "pygments_lexer": "ipython3",
   "version": "3.8.10"
  }
 },
 "nbformat": 4,
 "nbformat_minor": 5
}
